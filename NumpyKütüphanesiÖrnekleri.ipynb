{
 "cells": [
  {
   "cell_type": "code",
   "execution_count": null,
   "id": "0b2783d3-3398-4bfe-80c4-ab8b4748222f",
   "metadata": {},
   "outputs": [],
   "source": [
    "## Numpy kütüphanesi\n",
    "Doğrusal cebir, vektör uzayları ve vektör uzayları arasındaki doğrusal dönüşümler hakkında bilgiler içeren bir matematik dalıdır.\n",
    "# Makine öğrenmesinde kullanulan algoritmalar ağırlıklı olarak doğrusal cebire dayanır. Bu nedenle, vektörlerin ve matrislerin ne olduğunu,\n",
    "## onlarla hangi işlemlerin yapılabileceğini bilmek önemlidir.\n",
    "# Vektör, bir büyüklük ve bir yön ile tanımlanabilen bir niteliktir."
   ]
  },
  {
   "cell_type": "code",
   "execution_count": 1,
   "id": "0c5b5e64-405c-4c76-83f2-ee9fbe87ac6c",
   "metadata": {},
   "outputs": [],
   "source": [
    "import numpy as np "
   ]
  },
  {
   "cell_type": "code",
   "execution_count": 3,
   "id": "725f81cf-5aab-4a2c-8d75-8d82d23f8f20",
   "metadata": {},
   "outputs": [
    {
     "data": {
      "text/plain": [
       "array([2, 3, 4, 5])"
      ]
     },
     "execution_count": 3,
     "metadata": {},
     "output_type": "execute_result"
    }
   ],
   "source": [
    "np.array(([2,3,4,5]))"
   ]
  },
  {
   "cell_type": "code",
   "execution_count": 4,
   "id": "ab542839-2915-46fd-ab3e-f9f5b94167ff",
   "metadata": {},
   "outputs": [
    {
     "data": {
      "text/plain": [
       "array([[1, 2, 3, 4],\n",
       "       [1, 2, 3, 2]])"
      ]
     },
     "execution_count": 4,
     "metadata": {},
     "output_type": "execute_result"
    }
   ],
   "source": [
    "np.array(([1,2,3,4],[1,2,3,2]))"
   ]
  },
  {
   "cell_type": "code",
   "execution_count": 5,
   "id": "7c73a329-9a25-4df8-ae6c-469c1efee1bb",
   "metadata": {},
   "outputs": [
    {
     "data": {
      "text/plain": [
       "array([0., 0., 0.])"
      ]
     },
     "execution_count": 5,
     "metadata": {},
     "output_type": "execute_result"
    }
   ],
   "source": [
    "np.zeros(3)"
   ]
  },
  {
   "cell_type": "code",
   "execution_count": 7,
   "id": "8f5be11c-a090-45d0-bed9-0910c4302197",
   "metadata": {},
   "outputs": [
    {
     "data": {
      "text/plain": [
       "array([[0., 0., 0.],\n",
       "       [0., 0., 0.],\n",
       "       [0., 0., 0.],\n",
       "       [0., 0., 0.]])"
      ]
     },
     "execution_count": 7,
     "metadata": {},
     "output_type": "execute_result"
    }
   ],
   "source": [
    "np.zeros((4,3))"
   ]
  },
  {
   "cell_type": "code",
   "execution_count": 9,
   "id": "ec57a759-6db5-4ad0-a09f-e7800b5b49d8",
   "metadata": {},
   "outputs": [
    {
     "data": {
      "text/plain": [
       "array([['0', '0'],\n",
       "       ['0', '0']], dtype='<U1')"
      ]
     },
     "execution_count": 9,
     "metadata": {},
     "output_type": "execute_result"
    }
   ],
   "source": [
    "np.full((2,2),\"0\")"
   ]
  },
  {
   "cell_type": "code",
   "execution_count": 10,
   "id": "88939eb4-8c94-4506-a7c8-25226c2c94b6",
   "metadata": {},
   "outputs": [
    {
     "data": {
      "text/plain": [
       "array([ 1,  3,  5,  7,  9, 11, 13])"
      ]
     },
     "execution_count": 10,
     "metadata": {},
     "output_type": "execute_result"
    }
   ],
   "source": [
    "np.arange(1,15,2) ##1 ile 15 arasında ikişer ikişer artarak bir matris oluşturur"
   ]
  },
  {
   "cell_type": "code",
   "execution_count": 17,
   "id": "985b62d3-12d6-4b28-a47d-817285adc3ec",
   "metadata": {},
   "outputs": [
    {
     "data": {
      "text/plain": [
       "array([ 0. ,  2.5,  5. ,  7.5, 10. ])"
      ]
     },
     "execution_count": 17,
     "metadata": {},
     "output_type": "execute_result"
    }
   ],
   "source": [
    "np.linspace(0.0,10.0,num=5)  #num kaça bölüneecğini gösterir.\n"
   ]
  },
  {
   "cell_type": "code",
   "execution_count": 19,
   "id": "57da9749-5716-4b23-a1bf-f6fec167a9fd",
   "metadata": {},
   "outputs": [
    {
     "data": {
      "text/plain": [
       "array([[0.16515993, 0.37795334],\n",
       "       [0.92180066, 0.82433031]])"
      ]
     },
     "execution_count": 19,
     "metadata": {},
     "output_type": "execute_result"
    }
   ],
   "source": [
    "np.random.rand(2,2) ## rastgele sayılardan oluşan  float türünde matris oluşturur.\n"
   ]
  },
  {
   "cell_type": "code",
   "execution_count": 21,
   "id": "8bb90034-ce98-4e63-b008-874b0c1ba0e6",
   "metadata": {},
   "outputs": [
    {
     "data": {
      "text/plain": [
       "array([[2, 2],\n",
       "       [3, 3]])"
      ]
     },
     "execution_count": 21,
     "metadata": {},
     "output_type": "execute_result"
    }
   ],
   "source": [
    "np.random.randint(1,4,size=(2,2))"
   ]
  },
  {
   "cell_type": "code",
   "execution_count": 22,
   "id": "33a4aeee-ca54-42cc-a734-9a2325ed1832",
   "metadata": {},
   "outputs": [
    {
     "data": {
      "text/plain": [
       "array([ 0,  1,  2,  3,  4,  5,  6,  7,  8,  9, 10, 11, 12, 13, 14, 15])"
      ]
     },
     "execution_count": 22,
     "metadata": {},
     "output_type": "execute_result"
    }
   ],
   "source": [
    "dizi=np.arange(16)\n",
    "dizi"
   ]
  },
  {
   "cell_type": "code",
   "execution_count": 29,
   "id": "6dc4cb65-75c5-4db4-a770-a1ac4a9b09dd",
   "metadata": {},
   "outputs": [
    {
     "data": {
      "text/plain": [
       "array([[ 0,  1,  2,  3],\n",
       "       [ 4,  5,  6,  7],\n",
       "       [ 8,  9, 10, 11],\n",
       "       [12, 13, 14, 15]])"
      ]
     },
     "execution_count": 29,
     "metadata": {},
     "output_type": "execute_result"
    }
   ],
   "source": [
    "dizi.shape=(4,4)\n",
    "dizi\n",
    "\n"
   ]
  },
  {
   "cell_type": "code",
   "execution_count": 31,
   "id": "7b0e847b-0bcc-4366-80f0-f97b537ae727",
   "metadata": {},
   "outputs": [
    {
     "data": {
      "text/plain": [
       "2"
      ]
     },
     "execution_count": 31,
     "metadata": {},
     "output_type": "execute_result"
    }
   ],
   "source": [
    "dizi.ndim"
   ]
  },
  {
   "cell_type": "code",
   "execution_count": 37,
   "id": "115ac59c-0daf-4c39-9b17-ae43ef3381d0",
   "metadata": {},
   "outputs": [
    {
     "data": {
      "text/plain": [
       "array([ 0,  1,  2,  3,  4,  5,  6,  7,  8,  9, 10, 11, 12, 13, 14, 15])"
      ]
     },
     "execution_count": 37,
     "metadata": {},
     "output_type": "execute_result"
    }
   ],
   "source": [
    "x=dizi.ravel() ## çok boyutlu diziyi tek boyutlu diziye çevirir.\n",
    "x"
   ]
  },
  {
   "cell_type": "code",
   "execution_count": 39,
   "id": "dd6d8e5a-9eb5-4d0f-8735-a882ace3bd07",
   "metadata": {},
   "outputs": [
    {
     "data": {
      "text/plain": [
       "array([[ 2,  4,  6],\n",
       "       [ 8, 10, 12]])"
      ]
     },
     "execution_count": 39,
     "metadata": {},
     "output_type": "execute_result"
    }
   ],
   "source": [
    "dizi2=np.array(([2,4,6],[8,10,12]))\n",
    "dizi2"
   ]
  },
  {
   "cell_type": "code",
   "execution_count": 47,
   "id": "22e7a19b-c379-430d-840a-33918d64fe32",
   "metadata": {},
   "outputs": [
    {
     "data": {
      "text/plain": [
       "11.666666666666666"
      ]
     },
     "execution_count": 47,
     "metadata": {},
     "output_type": "execute_result"
    }
   ],
   "source": [
    "dizi2.min()\n",
    "dizi2.max()\n",
    "dizi2.sum()\n",
    "dizi2.prod() ## çarpımları verir.\n",
    "dizi2.std()##standart sapmayı verir\n",
    "dizi2.var() ## varyansı verir\n"
   ]
  },
  {
   "cell_type": "code",
   "execution_count": 51,
   "id": "fa2dfcca-27ce-421c-854f-69057e033462",
   "metadata": {},
   "outputs": [
    {
     "data": {
      "text/plain": [
       "array([ 0,  1,  2,  3,  4,  5,  6,  7,  8,  9, 10, 11, 12, 13, 14, 15])"
      ]
     },
     "execution_count": 51,
     "metadata": {},
     "output_type": "execute_result"
    }
   ],
   "source": [
    "y=np.arange(16)\n",
    "y\n"
   ]
  },
  {
   "cell_type": "code",
   "execution_count": 52,
   "id": "d3412ed1-d076-4567-8dc2-41886fb2c784",
   "metadata": {},
   "outputs": [
    {
     "data": {
      "text/plain": [
       "4"
      ]
     },
     "execution_count": 52,
     "metadata": {},
     "output_type": "execute_result"
    }
   ],
   "source": [
    "y[4] ## 4.indisteki elemanı verir."
   ]
  },
  {
   "cell_type": "code",
   "execution_count": 54,
   "id": "a9651db5-3968-4a91-ad8b-24a05c50e516",
   "metadata": {},
   "outputs": [
    {
     "data": {
      "text/plain": [
       "array([1, 2, 3, 4])"
      ]
     },
     "execution_count": 54,
     "metadata": {},
     "output_type": "execute_result"
    }
   ],
   "source": [
    "y[1:5]"
   ]
  },
  {
   "cell_type": "code",
   "execution_count": 58,
   "id": "2f921521-bf69-432a-a3d1-df1f74083914",
   "metadata": {},
   "outputs": [
    {
     "data": {
      "text/plain": [
       "array([ 0,  1,  2,  3,  4,  5,  6,  7,  8,  9, 10, 11, 12, 13, 14])"
      ]
     },
     "execution_count": 58,
     "metadata": {},
     "output_type": "execute_result"
    }
   ],
   "source": [
    "y[:-1] ## son elemana kadar alır son elemanı almaz. -1 son elemanın alınmayacağını gösterir.\n"
   ]
  },
  {
   "cell_type": "code",
   "execution_count": 59,
   "id": "9c727653-9d10-48e4-9f74-8aa7fb4be17f",
   "metadata": {},
   "outputs": [
    {
     "data": {
      "text/plain": [
       "array([ 1,  3,  5,  7,  9, 11, 13, 15])"
      ]
     },
     "execution_count": 59,
     "metadata": {},
     "output_type": "execute_result"
    }
   ],
   "source": [
    "y[1::2] ## 1.indisten  başlayarak ikişer ikişer atlayarak elemanları gösterir"
   ]
  },
  {
   "cell_type": "code",
   "execution_count": 61,
   "id": "24d04b2f-9e5b-4384-8d23-a0d08f3f29c7",
   "metadata": {},
   "outputs": [
    {
     "data": {
      "text/plain": [
       "array([[ 6,  3,  8,  2],\n",
       "       [ 0, 13, 13,  5],\n",
       "       [14,  4,  3,  0],\n",
       "       [13, 10, 10,  7]])"
      ]
     },
     "execution_count": 61,
     "metadata": {},
     "output_type": "execute_result"
    }
   ],
   "source": [
    "z=np.random.randint(0,16,(4,4))\n",
    "z"
   ]
  },
  {
   "cell_type": "code",
   "execution_count": 62,
   "id": "21893fad-fb28-4455-a374-1bb4c2243ec4",
   "metadata": {},
   "outputs": [
    {
     "data": {
      "text/plain": [
       "0"
      ]
     },
     "execution_count": 62,
     "metadata": {},
     "output_type": "execute_result"
    }
   ],
   "source": [
    "z[2,3]  ## 2.satır 3.sutundaki elemanı verir"
   ]
  },
  {
   "cell_type": "code",
   "execution_count": 64,
   "id": "35620091-137b-445c-b971-7c4c87d33d7f",
   "metadata": {},
   "outputs": [
    {
     "data": {
      "text/plain": [
       "array([6, 3, 8, 2])"
      ]
     },
     "execution_count": 64,
     "metadata": {},
     "output_type": "execute_result"
    }
   ],
   "source": [
    "z[0,:]"
   ]
  }
 ],
 "metadata": {
  "kernelspec": {
   "display_name": "Python 3 (ipykernel)",
   "language": "python",
   "name": "python3"
  },
  "language_info": {
   "codemirror_mode": {
    "name": "ipython",
    "version": 3
   },
   "file_extension": ".py",
   "mimetype": "text/x-python",
   "name": "python",
   "nbconvert_exporter": "python",
   "pygments_lexer": "ipython3",
   "version": "3.11.7"
  }
 },
 "nbformat": 4,
 "nbformat_minor": 5
}
